{
  "nbformat": 4,
  "nbformat_minor": 0,
  "metadata": {
    "colab": {
      "name": "Лабораторная ПРОА №1",
      "provenance": [],
      "authorship_tag": "ABX9TyOA2O9aSVpCQJ0ljnLX3TiV",
      "include_colab_link": true
    },
    "kernelspec": {
      "name": "python3",
      "display_name": "Python 3"
    },
    "language_info": {
      "name": "python"
    }
  },
  "cells": [
    {
      "cell_type": "markdown",
      "metadata": {
        "id": "view-in-github",
        "colab_type": "text"
      },
      "source": [
        "<a href=\"https://colab.research.google.com/github/Valeria379/PROA/blob/main/%D0%9B%D0%B0%D0%B1%D0%BE%D1%80%D0%B0%D1%82%D0%BE%D1%80%D0%BD%D0%B0%D1%8F_%D0%9F%D0%A0%D0%9E%D0%90_%E2%84%961.ipynb\" target=\"_parent\"><img src=\"https://colab.research.google.com/assets/colab-badge.svg\" alt=\"Open In Colab\"/></a>"
      ]
    },
    {
      "cell_type": "markdown",
      "source": [
        "1.1\n",
        "\n",
        "Считайте число n. Создайте в переменной Z Numpy вектор из нулей длины n"
      ],
      "metadata": {
        "id": "C_bPdMuzsBJz"
      }
    },
    {
      "cell_type": "code",
      "source": [
        "import numpy as np"
      ],
      "metadata": {
        "id": "Wq6DUAYMsGEB"
      },
      "execution_count": null,
      "outputs": []
    },
    {
      "cell_type": "code",
      "source": [
        "Z = np.zeros(5)\n",
        "print(Z)"
      ],
      "metadata": {
        "colab": {
          "base_uri": "https://localhost:8080/"
        },
        "id": "4ascP63oswHY",
        "outputId": "4a2637ff-a2ab-412f-8730-b7507b0eb334"
      },
      "execution_count": null,
      "outputs": [
        {
          "output_type": "stream",
          "name": "stdout",
          "text": [
            "[0. 0. 0. 0. 0.]\n"
          ]
        }
      ]
    },
    {
      "cell_type": "markdown",
      "source": [
        "1.2.\n",
        "\n",
        " Посчитайте размер матрицы Z в байтах и выведите его на печать. \n"
      ],
      "metadata": {
        "id": "bLdkTEqTwhJK"
      }
    },
    {
      "cell_type": "code",
      "source": [
        "Z = np.zeros((10,10))\n",
        "print(Z.nbytes)\n"
      ],
      "metadata": {
        "colab": {
          "base_uri": "https://localhost:8080/"
        },
        "id": "uG6f8DypwkSP",
        "outputId": "db75acc1-458b-4264-9284-6159928f153a"
      },
      "execution_count": null,
      "outputs": [
        {
          "output_type": "stream",
          "name": "stdout",
          "text": [
            "800\n"
          ]
        }
      ]
    },
    {
      "cell_type": "code",
      "source": [
        "Z = np.array([1, 2, 3,], dtype=np.float64)\n",
        "print(Z.nbytes) "
      ],
      "metadata": {
        "colab": {
          "base_uri": "https://localhost:8080/"
        },
        "id": "bHwrapfO02PV",
        "outputId": "9e0671a7-843f-43f2-cacd-ff9c94cc919c"
      },
      "execution_count": null,
      "outputs": [
        {
          "output_type": "stream",
          "name": "stdout",
          "text": [
            "24\n"
          ]
        }
      ]
    },
    {
      "cell_type": "markdown",
      "source": [
        "1.3.\n",
        "\n",
        " Считайте 2 числа:\n",
        "\n",
        "n - размер Numpy вектора\n",
        "\n",
        "x - координата элемента вектора, который должен быть равен 1. Остальные элементы вектора\n",
        "должны быть равны 0. Сохраните вектор в переменную Z."
      ],
      "metadata": {
        "id": "hxsFwaLr2Kag"
      }
    },
    {
      "cell_type": "code",
      "source": [
        "Z = np.zeros(10)\n",
        "Z[4] = 1\n",
        "print(Z)"
      ],
      "metadata": {
        "colab": {
          "base_uri": "https://localhost:8080/"
        },
        "id": "1JCoZjU82QGP",
        "outputId": "44cd43cf-e93b-466d-816d-28d290c58936"
      },
      "execution_count": null,
      "outputs": [
        {
          "output_type": "stream",
          "name": "stdout",
          "text": [
            "[0. 0. 0. 0. 1. 0. 0. 0. 0. 0.]\n"
          ]
        }
      ]
    },
    {
      "cell_type": "markdown",
      "source": [
        "1.4.\n",
        "\n",
        " Считайте 2 числа n, m. Создайте вектор Z состоящий из чисел от n до m с шагом 1"
      ],
      "metadata": {
        "id": "yPnPtpuA3Pxz"
      }
    },
    {
      "cell_type": "code",
      "source": [
        "Z = np.arange(10, 51, 1)\n",
        "print(Z)"
      ],
      "metadata": {
        "colab": {
          "base_uri": "https://localhost:8080/"
        },
        "id": "GgktI6Uu3T-h",
        "outputId": "6847c990-ba29-404e-b121-e756e78da426"
      },
      "execution_count": null,
      "outputs": [
        {
          "output_type": "stream",
          "name": "stdout",
          "text": [
            "[10 11 12 13 14 15 16 17 18 19 20 21 22 23 24 25 26 27 28 29 30 31 32 33\n",
            " 34 35 36 37 38 39 40 41 42 43 44 45 46 47 48 49 50]\n"
          ]
        }
      ]
    },
    {
      "cell_type": "markdown",
      "source": [
        "1.5.\n",
        "\n",
        " Дан вектор Z. \"Разверните\" его."
      ],
      "metadata": {
        "id": "x9Eiw0D25mbu"
      }
    },
    {
      "cell_type": "code",
      "source": [
        "Z = np.array([1, 2, 3, 4])\n",
        "Z = Z[::-1]\n",
        "print(Z)"
      ],
      "metadata": {
        "colab": {
          "base_uri": "https://localhost:8080/"
        },
        "id": "veisgFbc5wgk",
        "outputId": "9bd8b946-3fd6-46d3-f2c3-4144a79d4566"
      },
      "execution_count": null,
      "outputs": [
        {
          "output_type": "stream",
          "name": "stdout",
          "text": [
            "[4 3 2 1]\n"
          ]
        }
      ]
    },
    {
      "cell_type": "markdown",
      "source": [
        "1.6.\n",
        "\n",
        " Считайте 3 числа:\n",
        "\n",
        "n - количество элементов матрицы\n",
        "\n",
        "m и k - размеры матрицы (число строк и столбцов соответственно)\n",
        "Заполните матрицу Z числами от 0 до n-1 по порядку (сперва строки, потом столбцы).\n",
        "Гарантируется, что m*k = n, т.е. все элементы \"влезут\" в матрицу и не останется\n",
        "пустых мест."
      ],
      "metadata": {
        "id": "Veeg91bs6j26"
      }
    },
    {
      "cell_type": "code",
      "source": [
        "Z = np.arange(6).reshape(2,3)\n",
        "print(Z)\n"
      ],
      "metadata": {
        "colab": {
          "base_uri": "https://localhost:8080/"
        },
        "id": "7HjO93At7F-Z",
        "outputId": "bce32e82-f27c-496a-90ad-32a2968d617f"
      },
      "execution_count": null,
      "outputs": [
        {
          "output_type": "stream",
          "name": "stdout",
          "text": [
            "[[0 1 2]\n",
            " [3 4 5]]\n"
          ]
        }
      ]
    },
    {
      "cell_type": "code",
      "source": [
        "Z = np.arange(9).reshape(3,3)\n",
        "print(Z)"
      ],
      "metadata": {
        "colab": {
          "base_uri": "https://localhost:8080/"
        },
        "id": "7bZ5dEdw8XYl",
        "outputId": "7eb85b66-87d6-46ca-e2c2-62aad965d955"
      },
      "execution_count": null,
      "outputs": [
        {
          "output_type": "stream",
          "name": "stdout",
          "text": [
            "[[0 1 2]\n",
            " [3 4 5]\n",
            " [6 7 8]]\n"
          ]
        }
      ]
    },
    {
      "cell_type": "markdown",
      "source": [
        "1.7.\n",
        "\n",
        " Дан вектор Z. Запишите в переменную NonZerros индексы ненулевых элементов"
      ],
      "metadata": {
        "id": "k016-ilE8TlL"
      }
    },
    {
      "cell_type": "code",
      "source": [
        "nz = np.nonzero([1, 0, 2, 0, 3, 0, 4])\n",
        "print(nz)"
      ],
      "metadata": {
        "colab": {
          "base_uri": "https://localhost:8080/"
        },
        "id": "OeXYRlih8sg9",
        "outputId": "144ac91d-8fa7-4ba5-8498-ba793cac77c0"
      },
      "execution_count": null,
      "outputs": [
        {
          "output_type": "stream",
          "name": "stdout",
          "text": [
            "(array([0, 2, 4, 6]),)\n"
          ]
        }
      ]
    },
    {
      "cell_type": "code",
      "source": [
        "nz = np.nonzero([1,2,0,0,4,0])\n",
        "print(nz)\n"
      ],
      "metadata": {
        "colab": {
          "base_uri": "https://localhost:8080/"
        },
        "id": "TOjGLnYF-F8r",
        "outputId": "88a96422-3c3f-4052-e782-40f37e32b6fb"
      },
      "execution_count": null,
      "outputs": [
        {
          "output_type": "stream",
          "name": "stdout",
          "text": [
            "(array([0, 1, 4]),)\n"
          ]
        }
      ]
    },
    {
      "cell_type": "markdown",
      "source": [
        "1.8. \n",
        "\n",
        "Считайте число n. Создайте единичную матрицу размера n, сохраните результат в\n",
        "переменную Z."
      ],
      "metadata": {
        "id": "q0Ez4BeC-htj"
      }
    },
    {
      "cell_type": "code",
      "source": [
        "Z = np.eye(3)\n",
        "print(Z)"
      ],
      "metadata": {
        "colab": {
          "base_uri": "https://localhost:8080/"
        },
        "id": "wYGfdRhT-o54",
        "outputId": "3293e7aa-8abd-4b3a-b79d-f016562c1789"
      },
      "execution_count": null,
      "outputs": [
        {
          "output_type": "stream",
          "name": "stdout",
          "text": [
            "[[1. 0. 0.]\n",
            " [0. 1. 0.]\n",
            " [0. 0. 1.]]\n"
          ]
        }
      ]
    },
    {
      "cell_type": "markdown",
      "source": [
        "1.9 \n",
        "\n",
        "Считайте 3 числа: n, m, l.. Зафиксируйте значение генератора случайных чисел Numpy\n",
        "с помощью numpy.random.seed(42) . Создайте матрицу n*m*l из случайных чисел (от 0 до 1) и\n",
        "сохраните результат в переменную Z."
      ],
      "metadata": {
        "id": "PbWhWdfP_F1x"
      }
    },
    {
      "cell_type": "code",
      "source": [
        "Z = np.random.random((2,2,2))\n",
        "print(Z)"
      ],
      "metadata": {
        "colab": {
          "base_uri": "https://localhost:8080/"
        },
        "id": "Ue9V7yRg_RBG",
        "outputId": "f8f53801-3960-47e0-f7bc-a12c076aab80"
      },
      "execution_count": null,
      "outputs": [
        {
          "output_type": "stream",
          "name": "stdout",
          "text": [
            "[[[0.28262404 0.50929062]\n",
            "  [0.06905183 0.32949406]]\n",
            "\n",
            " [[0.68934347 0.75715038]\n",
            "  [0.46383945 0.93567374]]]\n"
          ]
        }
      ]
    },
    {
      "cell_type": "markdown",
      "source": [
        "1.10.\n",
        "\n",
        " Считайте 2 числа: n, m. Зафиксируйте значение генератора случайных чисел Numpy с\n",
        "помощью numpy.random.seed(42). Создайте матрицу n*m из случайных чисел (от 0 до 1). Выведите на печать значение минимального и максимального чисел в получившейся\n",
        "матрице (каждое с новой строки)."
      ],
      "metadata": {
        "id": "JTATFArrBWW1"
      }
    },
    {
      "cell_type": "code",
      "source": [
        "Z = np.random.random((10,10))\n",
        "Zmin, Zmax = Z.min(), Z.max()\n",
        "print(Zmin)\n",
        "print(Zmax)"
      ],
      "metadata": {
        "colab": {
          "base_uri": "https://localhost:8080/"
        },
        "id": "trDNLdYCB0xh",
        "outputId": "1d345f6e-65cb-4680-ee18-c8ca8c148ca2"
      },
      "execution_count": null,
      "outputs": [
        {
          "output_type": "stream",
          "name": "stdout",
          "text": [
            "0.004510622052267821\n",
            "0.9830656633921308\n"
          ]
        }
      ]
    },
    {
      "cell_type": "code",
      "source": [
        "Z = np.random.random((2,6))\n",
        "Zmin, Zmax = Z.min(), Z.max()\n",
        "print(Zmin)\n",
        "print(Zmax)"
      ],
      "metadata": {
        "colab": {
          "base_uri": "https://localhost:8080/"
        },
        "id": "WWeOUkjYDKoV",
        "outputId": "2714cd49-aac7-4885-c9f6-2a53f0f844d9"
      },
      "execution_count": null,
      "outputs": [
        {
          "output_type": "stream",
          "name": "stdout",
          "text": [
            "0.0104018331049186\n",
            "0.7021868779853558\n"
          ]
        }
      ]
    },
    {
      "cell_type": "markdown",
      "source": [
        "1.11.\n",
        "\n",
        " Считайте 2 числа: n, m. Зафиксируйте значение генератора случайных чисел Numpy с\n",
        "помощью numpy.random.seed(42).Создайте матрицу n*m из случайных чисел (от 0 до 1).\n",
        "Выведите на печать значение среднего для всей матрицы."
      ],
      "metadata": {
        "id": "FB1XRSg-DcpH"
      }
    },
    {
      "cell_type": "code",
      "source": [
        "Z = np.random.random((30, 30))\n",
        "m = Z.mean()\n",
        "print(m)"
      ],
      "metadata": {
        "colab": {
          "base_uri": "https://localhost:8080/"
        },
        "id": "IO_u4-mwDg9i",
        "outputId": "64d141ea-67d3-4af9-9e78-5205d019f69b"
      },
      "execution_count": null,
      "outputs": [
        {
          "output_type": "stream",
          "name": "stdout",
          "text": [
            "0.5098199667918688\n"
          ]
        }
      ]
    },
    {
      "cell_type": "code",
      "source": [
        "Z = np.random.random((12, 6))\n",
        "m = Z.mean()\n",
        "print(m)"
      ],
      "metadata": {
        "colab": {
          "base_uri": "https://localhost:8080/"
        },
        "id": "Bl63HIrZECyH",
        "outputId": "8b9edbb9-71c4-4520-93de-cf16e4524101"
      },
      "execution_count": null,
      "outputs": [
        {
          "output_type": "stream",
          "name": "stdout",
          "text": [
            "0.5363067590099326\n"
          ]
        }
      ]
    },
    {
      "cell_type": "markdown",
      "source": [
        "1.12.\n",
        "\n",
        " Переменные A и B содержат по numpy вектору. Найдите их скалярное произведение и\n",
        "сохраните в переменную Z.\n",
        "A и B могут содержать как int, так и float.\n"
      ],
      "metadata": {
        "id": "xB_vaUjhEzrR"
      }
    },
    {
      "cell_type": "code",
      "source": [
        "A = np.array([1.5, 2.5, 3.5])\n",
        "B = np.array([4, 5, 6])\n",
        "print(np.dot(A, B))"
      ],
      "metadata": {
        "colab": {
          "base_uri": "https://localhost:8080/"
        },
        "id": "SmK1xYsfE9Ce",
        "outputId": "d75b2b48-9956-421e-8a77-e2eae12c99b7"
      },
      "execution_count": null,
      "outputs": [
        {
          "output_type": "stream",
          "name": "stdout",
          "text": [
            "39.5\n"
          ]
        }
      ]
    },
    {
      "cell_type": "code",
      "source": [
        "A = np.array([1, 3, 5, 7, 9])\n",
        "B = np.array([-2, 4, -6, 8, -10])\n",
        "print(np.dot(A, B))"
      ],
      "metadata": {
        "colab": {
          "base_uri": "https://localhost:8080/"
        },
        "id": "gQjL_Ln3G7uH",
        "outputId": "150873ba-d63c-47da-b3d8-7879b74b232c"
      },
      "execution_count": null,
      "outputs": [
        {
          "output_type": "stream",
          "name": "stdout",
          "text": [
            "-54\n"
          ]
        }
      ]
    },
    {
      "cell_type": "markdown",
      "source": [
        "1.13.\n",
        "\n",
        " Даны 2 матрицы: A и B. Найдите произведение матриц и сохраните его в переменную Z.\n",
        "Если найти произведение матриц невозможно, то запишите в Z строку:\n",
        "Упс! Что-то пошло не так..."
      ],
      "metadata": {
        "id": "tSvL-ZsZG4wD"
      }
    },
    {
      "cell_type": "code",
      "source": [
        "A = np.array([\n",
        " [1, 2, 3],\n",
        " [4, 5, 6]\n",
        "])\n",
        "B = np.array([\n",
        " [11.5],\n",
        " [12.5],\n",
        " [13.5]\n",
        "])\n",
        "Z = np.dot(A, B)\n",
        "print(Z)"
      ],
      "metadata": {
        "colab": {
          "base_uri": "https://localhost:8080/"
        },
        "id": "faQySXX2H9Yr",
        "outputId": "d749f776-23a4-499d-e7af-1a2323a466e4"
      },
      "execution_count": null,
      "outputs": [
        {
          "output_type": "stream",
          "name": "stdout",
          "text": [
            "[[ 77. ]\n",
            " [189.5]]\n"
          ]
        }
      ]
    },
    {
      "cell_type": "code",
      "source": [
        "A = np.array([\n",
        " [1, 2, 3],\n",
        " [4, 5, 6]\n",
        "])\n",
        "B = np.array([\n",
        " [11.5, 12.5, 13.5]\n",
        "])\n",
        "print(\"Упс, что-то пошло не так...\")"
      ],
      "metadata": {
        "colab": {
          "base_uri": "https://localhost:8080/"
        },
        "id": "yfabzksQIyer",
        "outputId": "7b36ba25-7030-4255-f000-230ba12eca72"
      },
      "execution_count": null,
      "outputs": [
        {
          "output_type": "stream",
          "name": "stdout",
          "text": [
            "Упс, что-то пошло не так...\n"
          ]
        }
      ]
    },
    {
      "cell_type": "markdown",
      "source": [
        "1.14.\n",
        "\n",
        " Поменяйте знак всех чисел из интервала (3; 9), хранящихся в векторе Z."
      ],
      "metadata": {
        "id": "YatEYoQGL9Wz"
      }
    },
    {
      "cell_type": "code",
      "source": [
        "Z = np.arange(11)\n",
        "Z[(3 < Z) & (Z < 9)] *= -1\n",
        "print(Z)"
      ],
      "metadata": {
        "colab": {
          "base_uri": "https://localhost:8080/"
        },
        "id": "xCNzQSP6MEbc",
        "outputId": "2bd7a68a-36db-46f2-d1da-956c2a093042"
      },
      "execution_count": null,
      "outputs": [
        {
          "output_type": "stream",
          "name": "stdout",
          "text": [
            "[ 0  1  2  3 -4 -5 -6 -7 -8  9 10]\n"
          ]
        }
      ]
    },
    {
      "cell_type": "code",
      "source": [
        "Z = np.array([-10, -5, 0, 5, 10])\n",
        "Z[(10 < Z) & (Z < 5)] *= 0\n",
        "print(Z)"
      ],
      "metadata": {
        "colab": {
          "base_uri": "https://localhost:8080/"
        },
        "id": "bKoeb2If5Igy",
        "outputId": "fc296279-ee52-4d51-a27d-9f12e13fd8bb"
      },
      "execution_count": null,
      "outputs": [
        {
          "output_type": "stream",
          "name": "stdout",
          "text": [
            "[-10  -5   0   5  10]\n"
          ]
        }
      ]
    },
    {
      "cell_type": "markdown",
      "source": [
        "1.15.\n",
        "\n",
        "Подсчитать произведение ненулевых элементов на диагонали прямоугольной\n",
        "матрицы. Для X = np.array([[1, 0, 1], [2, 0, 2], [3, 0, 3], [4, 4, 4]]) ответ 3."
      ],
      "metadata": {
        "id": "1kbf0aC1QNG0"
      }
    },
    {
      "cell_type": "code",
      "source": [
        "X = np.array([[1, 0, 1], [2, 0, 2], [3, 0, 3], [4, 4, 4]])\n",
        "print(np.prod(np.diag(X)[np.diag(X)!=0]))"
      ],
      "metadata": {
        "colab": {
          "base_uri": "https://localhost:8080/"
        },
        "id": "4BnzZVKZQRHC",
        "outputId": "9179a79c-8324-452e-ec6f-64345397a174"
      },
      "execution_count": null,
      "outputs": [
        {
          "output_type": "stream",
          "name": "stdout",
          "text": [
            "3\n"
          ]
        }
      ]
    },
    {
      "cell_type": "code",
      "source": [
        "import numpy as np"
      ],
      "metadata": {
        "id": "Il8_3vVN-juD"
      },
      "execution_count": null,
      "outputs": []
    },
    {
      "cell_type": "markdown",
      "source": [
        "1.16. Считайте число n. Создайте в переменной Z Numpy вектор из нулей длины n."
      ],
      "metadata": {
        "id": "Btl0p1K_iAMQ"
      }
    },
    {
      "cell_type": "code",
      "source": [
        "Z = [0, 0, 0, 0, 0] \n",
        "vtr = np.array(Z) \n",
        "print(Z) "
      ],
      "metadata": {
        "colab": {
          "base_uri": "https://localhost:8080/"
        },
        "id": "V_nZngnC4PyU",
        "outputId": "83286f03-cf61-4d0c-ff04-004ade72ed27"
      },
      "execution_count": null,
      "outputs": [
        {
          "output_type": "stream",
          "name": "stdout",
          "text": [
            "[0, 0, 0, 0, 0]\n"
          ]
        }
      ]
    },
    {
      "cell_type": "markdown",
      "source": [
        "1.17. Посчитайте размер матрицы Z в байтах и выведите его на печать. Чтобы узнать\n",
        "размер (в байтах) 1 элемента матрицы используйте"
      ],
      "metadata": {
        "id": "lMDk58NQ5o2q"
      }
    },
    {
      "cell_type": "code",
      "source": [
        "Z = np.zeros((10,10))\n",
        "print(Z.nbytes)\n"
      ],
      "metadata": {
        "colab": {
          "base_uri": "https://localhost:8080/"
        },
        "id": "gho0dMZ4-7sS",
        "outputId": "286881a9-6de2-4b82-fae6-7d936a5e0d8f"
      },
      "execution_count": null,
      "outputs": [
        {
          "output_type": "stream",
          "name": "stdout",
          "text": [
            "800\n"
          ]
        }
      ]
    },
    {
      "cell_type": "markdown",
      "source": [
        "1.18. Считайте 2 числа:\n",
        "\n",
        "n - размер Numpy вектора\n",
        "\n",
        "x - координата элемента вектора, который должен быть равен 1. Остальные элементы вектора\n",
        "должны быть равны 0. Сохраните вектор в переменную Z.\n"
      ],
      "metadata": {
        "id": "nc27wPxOl56Z"
      }
    },
    {
      "cell_type": "code",
      "source": [
        "Z = np.zeros(10)\n",
        "Z[4] = 1\n",
        "print(Z)"
      ],
      "metadata": {
        "colab": {
          "base_uri": "https://localhost:8080/"
        },
        "id": "95x_il4XmDzN",
        "outputId": "df62f60f-fccc-423a-b8d1-b350369e13c9"
      },
      "execution_count": null,
      "outputs": [
        {
          "output_type": "stream",
          "name": "stdout",
          "text": [
            "[0. 0. 0. 0. 1. 0. 0. 0. 0. 0.]\n"
          ]
        }
      ]
    },
    {
      "cell_type": "markdown",
      "source": [
        "1.19. Считайте 2 числа n, m. Создайте вектор Z состоящий из чисел от n до m с шагом 1"
      ],
      "metadata": {
        "id": "xf0n0I1RGShC"
      }
    },
    {
      "cell_type": "code",
      "source": [
        "Z = np.arange(10:50)\n",
        "print(Z)"
      ],
      "metadata": {
        "id": "6phzFbiFLHgq"
      },
      "execution_count": null,
      "outputs": []
    },
    {
      "cell_type": "markdown",
      "source": [
        "1.20. Дан вектор Z. \"Разверните\" его."
      ],
      "metadata": {
        "id": "kx9H_6SzLN-n"
      }
    },
    {
      "cell_type": "code",
      "source": [
        "Z = np.array([1, 2, 3, 4])\n",
        "Z = Z[::-1]\n",
        "print(Z)"
      ],
      "metadata": {
        "colab": {
          "base_uri": "https://localhost:8080/"
        },
        "id": "DAasbMAKLQms",
        "outputId": "5e3f0e2a-643a-4849-c105-e564691907fc"
      },
      "execution_count": null,
      "outputs": [
        {
          "output_type": "stream",
          "name": "stdout",
          "text": [
            "[4 3 2 1]\n"
          ]
        }
      ]
    },
    {
      "cell_type": "markdown",
      "source": [
        "1.21. Считайте 3 числа:\n",
        "\n",
        "n - количество элементов матрицы\n",
        "\n",
        " m и k - размеры матрицы (число строк и столбцов соответственно)\n",
        "Заполните матрицу Z числами от 0 до n-1 по порядку (сперва строки, потом столбцы)."
      ],
      "metadata": {
        "id": "owtRkts8LYEi"
      }
    },
    {
      "cell_type": "code",
      "source": [
        "Z = np.arange(6).reshape(2,3)\n",
        "print(Z)"
      ],
      "metadata": {
        "colab": {
          "base_uri": "https://localhost:8080/"
        },
        "id": "RL6E070xLnzS",
        "outputId": "d320d4ad-6b2f-4d89-f807-f0b40abcc3fe"
      },
      "execution_count": null,
      "outputs": [
        {
          "output_type": "stream",
          "name": "stdout",
          "text": [
            "[[0 1 2]\n",
            " [3 4 5]]\n"
          ]
        }
      ]
    },
    {
      "cell_type": "code",
      "source": [
        "Z = np.arange(9).reshape(3,3)\n",
        "print(Z)"
      ],
      "metadata": {
        "colab": {
          "base_uri": "https://localhost:8080/"
        },
        "id": "su3it551NeIC",
        "outputId": "7df0f2e6-abfd-4d77-f06f-00ca279d6309"
      },
      "execution_count": null,
      "outputs": [
        {
          "output_type": "stream",
          "name": "stdout",
          "text": [
            "[[0 1 2]\n",
            " [3 4 5]\n",
            " [6 7 8]]\n"
          ]
        }
      ]
    },
    {
      "cell_type": "markdown",
      "source": [
        "1.22. Дан вектор Z. Запишите в переменную NonZerros индексы ненулевых элементов."
      ],
      "metadata": {
        "id": "g2QBt8_MNS-E"
      }
    },
    {
      "cell_type": "code",
      "source": [
        "nz = np.nonzero([1, 0, 2, 0, 3, 0, 4])\n",
        "print(nz)"
      ],
      "metadata": {
        "colab": {
          "base_uri": "https://localhost:8080/"
        },
        "id": "Khc_WbnZOAAw",
        "outputId": "329b7469-6594-4cd7-81de-2be1f3880fb1"
      },
      "execution_count": null,
      "outputs": [
        {
          "output_type": "stream",
          "name": "stdout",
          "text": [
            "(array([0, 2, 4, 6]),)\n"
          ]
        }
      ]
    },
    {
      "cell_type": "code",
      "source": [
        "nz = np.nonzero([1,2,0,0,4,0])\n",
        "print(nz)"
      ],
      "metadata": {
        "colab": {
          "base_uri": "https://localhost:8080/"
        },
        "id": "KlByBMZJ-SPq",
        "outputId": "e82d0da9-4c9b-4234-b167-e63622e39856"
      },
      "execution_count": null,
      "outputs": [
        {
          "output_type": "stream",
          "name": "stdout",
          "text": [
            "(array([0, 1, 4]),)\n"
          ]
        }
      ]
    },
    {
      "cell_type": "markdown",
      "source": [
        "1.23. Считайте число n. Создайте единичную матрицу размера n, сохраните результат в\n",
        "переменную Z."
      ],
      "metadata": {
        "id": "heqQ-Q1V-aTP"
      }
    },
    {
      "cell_type": "code",
      "source": [
        "n = int(input(\"Введите число: \"))\n",
        "for i in range(0, n):\n",
        "    for j in range(0, n):\n",
        "        if(i == j):\n",
        "            print(\"1\", sep=\" \", end=\" \")\n",
        "        else:\n",
        "            print(\"0\")\n"
      ],
      "metadata": {
        "colab": {
          "base_uri": "https://localhost:8080/"
        },
        "id": "CH5uQ6pZ-lZS",
        "outputId": "87f87e24-c78b-4662-f3b0-137bb22c3444"
      },
      "execution_count": null,
      "outputs": [
        {
          "output_type": "stream",
          "name": "stdout",
          "text": [
            "Введите число: 3\n",
            "1 0\n",
            "0\n",
            "0\n",
            "1 0\n",
            "0\n",
            "0\n",
            "1 "
          ]
        }
      ]
    },
    {
      "cell_type": "markdown",
      "source": [
        "1.24. Считайте 3 числа: n, m, l.. Зафиксируйте значение генератора случайных чисел\n",
        "Numpy с помощью numpy.random.seed(42) . Создайте матрицу n*m*l из случайных чисел (от 0\n",
        "до 1) и сохраните результат в переменную Z.*Курсив*"
      ],
      "metadata": {
        "id": "C_-3CZH9Ghex"
      }
    },
    {
      "cell_type": "code",
      "source": [
        "np.random.seed(42)"
      ],
      "metadata": {
        "id": "-tHZr36gKd5I"
      },
      "execution_count": null,
      "outputs": []
    },
    {
      "cell_type": "code",
      "source": [
        "np.random.uniform(low=0, high=1, size=(4, 2))"
      ],
      "metadata": {
        "colab": {
          "base_uri": "https://localhost:8080/"
        },
        "id": "rasIIG5lGiUr",
        "outputId": "f5a433d8-2461-4e2f-9dbe-398c631cb7a0"
      },
      "execution_count": null,
      "outputs": [
        {
          "output_type": "execute_result",
          "data": {
            "text/plain": [
              "array([[0.96631751, 0.02028441],\n",
              "       [0.54011973, 0.70646375],\n",
              "       [0.31274233, 0.18761267],\n",
              "       [0.3943358 , 0.39312143]])"
            ]
          },
          "metadata": {},
          "execution_count": 36
        }
      ]
    },
    {
      "cell_type": "markdown",
      "source": [
        "1.25. Считайте 2 числа: n, m. Зафиксируйте значение генератора случайных чисел Numpy с\n",
        "помощью numpy.random.seed(42). Создайте матрицу n*m из случайных чисел (от 0 до 1).\n",
        "Выведите на печать значение минимального и максимального чисел в получившейся\n",
        "матрице (каждое с новой строки)."
      ],
      "metadata": {
        "id": "_4bJJxQAH9ns"
      }
    },
    {
      "cell_type": "code",
      "source": [
        "Z = np.random.random((10,10))\n",
        "Zmin, Zmax = Z.min(), Z.max()\n",
        "print(Zmin)\n",
        "print(Zmax)"
      ],
      "metadata": {
        "colab": {
          "base_uri": "https://localhost:8080/"
        },
        "id": "590zVUybJczW",
        "outputId": "7ea306c5-9212-4478-f6a8-044e9230042d"
      },
      "execution_count": null,
      "outputs": [
        {
          "output_type": "stream",
          "name": "stdout",
          "text": [
            "0.006308827066095146\n",
            "0.9958893328576237\n"
          ]
        }
      ]
    },
    {
      "cell_type": "code",
      "source": [
        "Z = np.random.random((2,6))\n",
        "Zmin, Zmax = Z.min(), Z.max()\n",
        "print(Zmin)\n",
        "print(Zmax)"
      ],
      "metadata": {
        "colab": {
          "base_uri": "https://localhost:8080/"
        },
        "id": "CYhpytOTLJnd",
        "outputId": "70a7cfb3-d8c0-4bfe-9a91-05a9aea58fa6"
      },
      "execution_count": null,
      "outputs": [
        {
          "output_type": "stream",
          "name": "stdout",
          "text": [
            "0.02708519076382898\n",
            "0.9117256399330264\n"
          ]
        }
      ]
    }
  ]
}